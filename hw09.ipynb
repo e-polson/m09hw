{
 "cells": [
  {
   "cell_type": "markdown",
   "id": "36f46fdd-2405-4dc8-9ea1-33f395e56cc0",
   "metadata": {},
   "source": [
    "# Student Info\n",
    "\n",
    "* Name: Emma Polson\n",
    "* Net UD: yfq7mg\n",
    "* URL of this file in GitHub: https://github.com/e-polson/DS5100-e-polson/blob/main/lessons/M09/hw09.ipynb"
   ]
  },
  {
   "cell_type": "markdown",
   "id": "375875a8-1503-46eb-8ea1-7e5bf39b5c41",
   "metadata": {},
   "source": [
    "# Instructions\n",
    "\n",
    "In your **private course repo on Rivanna**, use this Jupyter notebook and the data file described to write code that performs the tasks below. \n",
    "\n",
    "Save your notebook in the `M09` directory.\n",
    "\n",
    "Remember to add and commit these files to your repo. \n",
    "\n",
    "Then push your commits to your repo on GitHib.\n",
    "\n",
    "Be sure to fill out the **Student Info** block above.\n",
    "\n",
    "To submit your homework, save your results as a PDF and upload it to GradeScope. More information about how to create the PDF for this assignment are included at the end of this document.\n",
    "\n",
    "**TOTAL POINTS: 8**"
   ]
  },
  {
   "cell_type": "markdown",
   "id": "1baf08dc-35fe-44f1-bc26-7e1130ee993e",
   "metadata": {},
   "source": [
    "# Overview\n",
    "\n",
    "Follow the following recipe we used in class to package the code you wrote for `HW08` -- `booklover.py` and `booklover_test.py`.\n",
    "\n",
    "* Create a new git repo for your package.\n",
    "* Create and edit the required files and directories for your package and move the booklover modules there.\n",
    "  * <span style=\"color:green;font-weight:bold;\">Create a package directory called `booklover`.</span>\n",
    "  * <span style=\"color:green;font-weight:bold;\">Create a module called `booklover` inside the package directory.</span>\n",
    "  * <span style=\"color:green;font-weight:bold;\">Put the test file above the package directory, in the root of the project directory.</span>\n",
    "* Stage, commit, and push all the files you've created.\n",
    "* Install your package with pip.\n",
    "* Outside of your package dir, write a script to test your method.\n",
    "\n",
    "Put this notebook in your repo. This will allow you to execute bash commands and capture the outpunt directly in the notebook.\n",
    "\n",
    "**TOTAL: 8 POINTS**"
   ]
  },
  {
   "cell_type": "markdown",
   "id": "6e39ba79-49ee-41e8-9e49-23d9d6bac2e0",
   "metadata": {
    "tags": []
   },
   "source": [
    "# Tasks"
   ]
  },
  {
   "cell_type": "markdown",
   "id": "fb11de14",
   "metadata": {},
   "source": [
    "## Task 1\n",
    "\n",
    "(5 points)\n",
    "\n",
    "Show the directory structure of your repo by running this command from the root of your repo.\n",
    "\n",
    "<span style=\"color:green;font-weight:bold;\">Note: You may run this from the command line and cut-and-paste a screenshot of your results here.</span>"
   ]
  },
  {
   "cell_type": "code",
   "execution_count": 1,
   "id": "7e6c6607",
   "metadata": {},
   "outputs": [
    {
     "name": "stdout",
     "output_type": "stream",
     "text": [
      ".:\n",
      "total 9\n",
      "drwx--S--- 5 yfq7mg users 4096 Mar 22 14:24 m09hw\n",
      "-rw------- 1 yfq7mg users 6738 Mar 22 13:54 M09-HW-2.ipynb\n",
      "-rw------- 1 yfq7mg users    0 Jan 18 17:36 readme.md\n",
      "\n",
      "./m09hw:\n",
      "total 10\n",
      "drwx--S--- 3 yfq7mg users 4096 Mar 22 14:24 booklover\n",
      "-rw------- 1 yfq7mg users 2583 Mar 22 14:24 booklover_test.py\n",
      "-rw------- 1 yfq7mg users 6466 Mar 22 13:57 hw09.ipynb\n",
      "-rw------- 1 yfq7mg users 1065 Mar 22 14:23 LICENSE\n",
      "-rw------- 1 yfq7mg users  379 Mar 22 14:13 setup.py\n",
      "\n",
      "./m09hw/booklover:\n",
      "total 1\n",
      "-rw------- 1 yfq7mg users 2793 Mar 22 14:24 booklover.py\n",
      "-rw------- 1 yfq7mg users   30 Mar 22 14:10 __init__.py\n"
     ]
    }
   ],
   "source": [
    "!ls -lR"
   ]
  },
  {
   "cell_type": "markdown",
   "id": "6b6f288b-05aa-441b-8c73-84b50b3b6844",
   "metadata": {},
   "source": [
    "## Task 2\n",
    "\n",
    "(1 point)\n",
    "\n",
    "Put the URL of your GitHub repo here. Just paste it into a Markdown cell."
   ]
  },
  {
   "cell_type": "markdown",
   "id": "4d09d889-6104-4f20-b31c-2d8a72b17693",
   "metadata": {},
   "source": [
    "URL: https://github.com/e-polson/m09hw"
   ]
  },
  {
   "cell_type": "markdown",
   "id": "f989dcd1-b1d2-4eb9-8ef6-8ca2d8495260",
   "metadata": {
    "lines_to_next_cell": 0
   },
   "source": [
    "## Task 3\n",
    "\n",
    "(1 point)\n",
    "\n",
    "Show the results of installing your package.\n",
    "\n",
    "```bash\n",
    "!pip install -e .\n",
    "```\n",
    "\n",
    "<span style=\"color:green;font-weight:bold;\">Note: You may run this from the command line and cut-and-paste a screenshot of your results here.</span>"
   ]
  },
  {
   "cell_type": "markdown",
   "id": "a358bbbc-02b4-4574-a46c-e5f80fe43236",
   "metadata": {},
   "source": [
    "```text\n",
    "bash-4.4$pwd\n",
    "/home/yfq7mg/Documents/MSDS/DS5100/DS5100-e-polson/lessons/M09/m09hw\n",
    "bash-4.4$pip install -e\n",
    "\n",
    "Usage:   \n",
    "  pip install [options] <requirement specifier> [package-index-options] ...\n",
    "  pip install [options] -r <requirements file> [package-index-options] ...\n",
    "  pip install [options] [-e] <vcs project url> ...\n",
    "  pip install [options] [-e] <local project path> ...\n",
    "  pip install [options] <archive url/path> ...\n",
    "\n",
    "-e option requires 1 argument\n",
    "```"
   ]
  },
  {
   "cell_type": "markdown",
   "id": "5b1a642e-74f0-43ff-97a3-9ddc7553978e",
   "metadata": {},
   "source": [
    "## Task 4\n",
    "\n",
    "(1 point)\n",
    "\n",
    "Create a file outside your repo to test your package by running it.\n",
    "\n",
    "To do this, import the package into your file and create a BookLover object.\n",
    "\n",
    "Then add a book and then print number books read.\n",
    "\n",
    "Then run the file. \n",
    "\n",
    "Show the output of running the file below, using a command like the following:\n",
    "\n",
    "```bash\n",
    "!python ../book_lover_demo.py\n",
    "```\n",
    "\n",
    "<span style=\"color:green;font-weight:bold;\">Note: You may run this from the command line and cut-and-paste a screenshot of your results here.</span>"
   ]
  },
  {
   "cell_type": "markdown",
   "id": "21ae1603-254e-4f3a-b36a-12489aa8b7d8",
   "metadata": {},
   "source": [
    "```text\n",
    "bash-4.4$python book_lover_demo.py\n",
    "Welcome to my module!\n",
    "/sfs/gpfs/tardis/home/yfq7mg/Documents/MSDS/DS5100/DS5100-e-polson/lessons/M09/m09hw/booklover/booklover.py:31: FutureWarning: elementwise comparison failed; returning scalar instead, but in the future will perform elementwise comparison\n",
    "  if book_name in self.book_list['book_name'].values:\n",
    "The book 'Farenheit 451' has been added to Jen's book list\n",
    "The book 'Iron Flame' has been added to Jen's book list\n",
    "The book 'Emma' has been added to Jen's book list\n",
    "Number of books read: 3\n",
    "Favorite books (rating > 3):\n",
    "       book_name  book_rating\n",
    "0  Farenheit 451          4.0\n",
    "1     Iron Flame          5.0\n",
    "```"
   ]
  }
 ],
 "metadata": {
  "jupytext": {
   "cell_metadata_filter": "-all",
   "main_language": "bash",
   "notebook_metadata_filter": "-all"
  },
  "kernelspec": {
   "display_name": "Python 3 (ipykernel)",
   "language": "python",
   "name": "python3"
  },
  "language_info": {
   "codemirror_mode": {
    "name": "ipython",
    "version": 3
   },
   "file_extension": ".py",
   "mimetype": "text/x-python",
   "name": "python",
   "nbconvert_exporter": "python",
   "pygments_lexer": "ipython3",
   "version": "3.11.4"
  },
  "vscode": {
   "interpreter": {
    "hash": "c3b963de08c47c3b6758389c5e0978ad73698a111eb508d4e16b558edb8f4cbf"
   }
  },
  "widgets": {
   "application/vnd.jupyter.widget-state+json": {
    "state": {},
    "version_major": 2,
    "version_minor": 0
   }
  }
 },
 "nbformat": 4,
 "nbformat_minor": 5
}
